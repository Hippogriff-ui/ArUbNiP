{
 "cells": [
  {
   "cell_type": "code",
   "execution_count": 1,
   "id": "6c99b78a",
   "metadata": {},
   "outputs": [],
   "source": [
    "import os\n",
    "import pandas as pd"
   ]
  },
  {
   "cell_type": "code",
   "execution_count": 5,
   "id": "71494914",
   "metadata": {},
   "outputs": [],
   "source": [
    "import os\n",
    "import pandas as pd\n",
    "\n",
    "# 指定包含CSV文件的文件夹路径\n",
    "folder_path = \"../ubiquitination/Arab/feature_extraction/win31_new/test/\"\n",
    "\n",
    "# 获取文件夹中所有CSV文件的文件名列表\n",
    "csv_files = [f for f in os.listdir(folder_path) if f.endswith('.csv')]\n",
    "\n",
    "# 初始化一个空的DataFrame，用于存储合并后的数据\n",
    "merged_data = pd.DataFrame()\n",
    "\n",
    "# 循环读取每个CSV文件，并将所有特征合并到新的DataFrame中\n",
    "for csv_file in csv_files:\n",
    "    file_path = os.path.join(folder_path, csv_file)\n",
    "    data = pd.read_csv(file_path)\n",
    "    # 假设第一列是标签列，将第一列之外的所有列合并到新的DataFrame中\n",
    "    merged_data = pd.concat([merged_data, data.iloc[:, 1:]], axis=1, ignore_index=False)\n",
    "\n",
    "label_data = data.iloc[:,0]\n",
    "merged_data = pd.concat([label_data, merged_data], axis=1, ignore_index=False)\n",
    "\n",
    "# 将合并后的数据保存到新的CSV文件中\n",
    "merged_data.to_csv(\"../ubiquitination/Arab/feature_combine/test_win31_new_feature_combine.csv\", index=False)"
   ]
  },
  {
   "cell_type": "code",
   "execution_count": null,
   "id": "0ea325b0",
   "metadata": {},
   "outputs": [],
   "source": []
  }
 ],
 "metadata": {
  "kernelspec": {
   "display_name": "Python 3 (ipykernel)",
   "language": "python",
   "name": "python3"
  },
  "language_info": {
   "codemirror_mode": {
    "name": "ipython",
    "version": 3
   },
   "file_extension": ".py",
   "mimetype": "text/x-python",
   "name": "python",
   "nbconvert_exporter": "python",
   "pygments_lexer": "ipython3",
   "version": "3.10.9"
  }
 },
 "nbformat": 4,
 "nbformat_minor": 5
}
