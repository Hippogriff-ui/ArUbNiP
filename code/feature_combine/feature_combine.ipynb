{
 "cells": [
  {
   "cell_type": "code",
   "execution_count": 1,
   "id": "f32093f3",
   "metadata": {},
   "outputs": [],
   "source": [
    "import numpy as np\n",
    "import pandas as pd\n",
    "import csv\n",
    "from tqdm import tqdm\n",
    "import os"
   ]
  },
  {
   "cell_type": "code",
   "execution_count": 12,
   "id": "21c2d60f",
   "metadata": {},
   "outputs": [
    {
     "name": "stderr",
     "output_type": "stream",
     "text": [
      "100%|████████████████████████████████████████████████████████████████████████████████████| 6/6 [00:06<00:00,  1.13s/it]\n"
     ]
    },
    {
     "name": "stdout",
     "output_type": "stream",
     "text": [
      "Done!\n"
     ]
    }
   ],
   "source": [
    "input_dir = \"../ubiquitination/Oryza_sativa/feature_construction/test_win31/\"\n",
    "\n",
    "feature_name = ['CKSAAP','PWM','EAAC','Binary','AA531','PSSM']\n",
    "\n",
    "#data_matrix = np.vstack((np.ones((1532,1)),np.zeros((4597,1))))\n",
    "data_matrix = np.vstack((np.ones((590,1)),np.zeros((1180,1))))\n",
    "\n",
    "feat_name = ['label']\n",
    "\n",
    "files= os.listdir(input_dir)\n",
    "\n",
    "for f in tqdm(feature_name):\n",
    "    single_feature = [_ for _ in files if f in _]\n",
    "        \n",
    "    if 'pos' in single_feature[0]:\n",
    "        pos_file_name = single_feature[0]\n",
    "        neg_file_name = single_feature[1]\n",
    "    else:\n",
    "        pos_file_name = single_feature[1]\n",
    "        neg_file_name = single_feature[0]\n",
    "        \n",
    "    pos_data = np.loadtxt(input_dir+pos_file_name,delimiter=',')\n",
    "    neg_data = np.loadtxt(input_dir+neg_file_name,delimiter=',')\n",
    "\n",
    "    feature_col = [f+'_'+str(i) for i in range(1,pos_data.shape[1]+1)]\n",
    "    feat_name.extend(feature_col)\n",
    "    \n",
    "    pos_neg = np.vstack((pos_data,neg_data))\n",
    "    \n",
    "    data_matrix = np.hstack((data_matrix,pos_neg))\n",
    "\n",
    "df = pd.DataFrame(data_matrix, columns=feat_name)\n",
    "\n",
    "df.to_csv(\"../ubiquitination/Oryza_sativa/feature_combine/Oryza_test_win31_feature_combine.csv\", index=False)\n",
    "\n",
    "print('Done!')"
   ]
  },
  {
   "cell_type": "code",
   "execution_count": null,
   "id": "d6d106d7",
   "metadata": {},
   "outputs": [],
   "source": []
  }
 ],
 "metadata": {
  "kernelspec": {
   "display_name": "Python 3 (ipykernel)",
   "language": "python",
   "name": "python3"
  },
  "language_info": {
   "codemirror_mode": {
    "name": "ipython",
    "version": 3
   },
   "file_extension": ".py",
   "mimetype": "text/x-python",
   "name": "python",
   "nbconvert_exporter": "python",
   "pygments_lexer": "ipython3",
   "version": "3.10.9"
  }
 },
 "nbformat": 4,
 "nbformat_minor": 5
}
