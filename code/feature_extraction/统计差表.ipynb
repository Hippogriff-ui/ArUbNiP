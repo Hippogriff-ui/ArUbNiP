{
 "cells": [
  {
   "cell_type": "code",
   "execution_count": 6,
   "id": "ba99268d",
   "metadata": {},
   "outputs": [],
   "source": [
    "from Bio.Seq import Seq\n",
    "from Bio.Alphabet import IUPAC\n",
    "from Bio import SeqIO\n",
    "from Bio.SeqRecord import SeqRecord\n",
    "from Bio.motifs import create, Motif\n",
    "from Bio.SeqUtils import ProtParam\n",
    "import numpy as np\n",
    "import pandas as pd\n",
    "from scipy.stats import chi2_contingency\n",
    "import matplotlib.pyplot as plt\n",
    "import math"
   ]
  },
  {
   "cell_type": "code",
   "execution_count": 35,
   "id": "02339985",
   "metadata": {},
   "outputs": [],
   "source": [
    "with open(r\"D:\\study\\paper\\ubiquitination\\Arab\\dataset\\win31\\test_pos_win31.txt\", 'r') as f1:\n",
    "    pos_lines = f1.readlines()\n",
    "    \n",
    "with open(r\"D:\\study\\paper\\ubiquitination\\Arab\\dataset\\win31\\test_neg_win31.txt\", 'r') as f2:\n",
    "    neg_lines = f2.readlines()"
   ]
  },
  {
   "cell_type": "code",
   "execution_count": 36,
   "id": "963f6390",
   "metadata": {},
   "outputs": [],
   "source": [
    "# 创建自定义字母表\n",
    "my_alphabet = IUPAC.IUPACProtein.letters + \"X\""
   ]
  },
  {
   "cell_type": "code",
   "execution_count": 37,
   "id": "d75d1db1",
   "metadata": {},
   "outputs": [],
   "source": [
    "pos_seqs = create([Seq(line.strip(),alphabet=my_alphabet) for line in pos_lines])\n",
    "neg_seqs = create([Seq(line.strip(),alphabet=my_alphabet) for line in neg_lines])"
   ]
  },
  {
   "cell_type": "code",
   "execution_count": 38,
   "id": "a026c0b2",
   "metadata": {},
   "outputs": [],
   "source": [
    "pos_seqs_counts = pos_seqs.counts\n",
    "neg_seqs_counts = neg_seqs.counts"
   ]
  },
  {
   "cell_type": "code",
   "execution_count": 39,
   "id": "17ce0d4d",
   "metadata": {},
   "outputs": [],
   "source": [
    "pos_counts_df = pd.DataFrame(pos_seqs_counts)\n",
    "neg_counts_df = pd.DataFrame(neg_seqs_counts)"
   ]
  },
  {
   "cell_type": "code",
   "execution_count": 40,
   "id": "394b445e",
   "metadata": {},
   "outputs": [],
   "source": [
    "chi_square_statistical_difference_table = np.zeros((20,31))"
   ]
  },
  {
   "cell_type": "code",
   "execution_count": 41,
   "id": "a0e9a68b",
   "metadata": {},
   "outputs": [],
   "source": [
    "aa = IUPAC.IUPACProtein.letters"
   ]
  },
  {
   "cell_type": "code",
   "execution_count": 42,
   "id": "cc444fbb",
   "metadata": {},
   "outputs": [],
   "source": [
    "def chi2_calculate(chi2_table):\n",
    "    chi2_value = (chi2_table[-1,-1]**2 / (chi2_table[0,-1]*chi2_table[1,-1])) * (np.sum([chi2_table[0,f]**2/chi2_table[-1,f] for f in range(20)]) - chi2_table[0,-1]/chi2_table[-1,-1])\n",
    "    return chi2_value"
   ]
  },
  {
   "cell_type": "code",
   "execution_count": 43,
   "id": "cfb8c067",
   "metadata": {},
   "outputs": [],
   "source": [
    "for i in range(31):\n",
    "    \n",
    "    if i != 16:\n",
    "    \n",
    "        chi2_table = np.zeros((3,21))\n",
    "\n",
    "        chi2_table[0,:20] = pos_counts_df.iloc[i, :20]\n",
    "        chi2_table[1,:20] = neg_counts_df.iloc[i, :20] / 3\n",
    "\n",
    "        chi2_table[0,-1] = np.sum(chi2_table[0,:20])\n",
    "        chi2_table[1,-1] = np.sum(chi2_table[1,:20])\n",
    "\n",
    "\n",
    "        chi2_table[2,:] = np.sum(chi2_table[0:2, :],axis=0)\n",
    "        \n",
    "        difference_value_list = []\n",
    "        for a in range(len(aa)):\n",
    "            chi2_table_pos = chi2_table.copy()\n",
    "            chi2_table_neg = chi2_table.copy()\n",
    "            chi2_table_pos[0,a] += 1\n",
    "            chi2_table_neg[1,a] += 1\n",
    "            pos_chi2_value = chi2_calculate(chi2_table_pos)\n",
    "            neg_chi2_value = chi2_calculate(chi2_table_neg)\n",
    "            difference_value = pos_chi2_value - neg_chi2_value\n",
    "            difference_value_list.append(difference_value)\n",
    "\n",
    "        chi_square_statistical_difference_table[:,i] = difference_value_list\n",
    "        \n",
    "    else:\n",
    "        chi_square_statistical_difference_table[:,i] = np.nan"
   ]
  },
  {
   "cell_type": "code",
   "execution_count": 44,
   "id": "5f120f0c",
   "metadata": {},
   "outputs": [],
   "source": [
    "x_mean = np.mean(chi_square_statistical_difference_table,axis=0)"
   ]
  },
  {
   "cell_type": "code",
   "execution_count": 45,
   "id": "ca51c321",
   "metadata": {},
   "outputs": [],
   "source": [
    "chi_square_statistical_difference_table_with_x = np.vstack((chi_square_statistical_difference_table,x_mean))"
   ]
  },
  {
   "cell_type": "code",
   "execution_count": 46,
   "id": "fb125682",
   "metadata": {},
   "outputs": [],
   "source": [
    "pos_feature = np.zeros((len(pos_lines), 31))\n",
    "for i in range(len(pos_lines)):\n",
    "    pos = pos_lines[i].strip()\n",
    "    j = 0\n",
    "    for p in pos:\n",
    "        p_index = my_alphabet.index(p)\n",
    "        feature_value = chi_square_statistical_difference_table_with_x[p_index,j]\n",
    "        pos_feature[i,j] = feature_value\n",
    "        j += 1"
   ]
  },
  {
   "cell_type": "code",
   "execution_count": 47,
   "id": "5a41933b",
   "metadata": {},
   "outputs": [
    {
     "data": {
      "text/plain": [
       "array([[3.19856244, 3.66946914, 3.82484763, ..., 4.60185455, 3.65365843,\n",
       "        4.15796699],\n",
       "       [3.19856244, 4.11503087, 2.81674825, ..., 3.82831446, 3.39268283,\n",
       "        3.57233784],\n",
       "       [3.08143534, 4.17340011, 3.82484763, ..., 3.7278181 , 4.79040793,\n",
       "        4.48897478],\n",
       "       ...,\n",
       "       [3.93034289, 3.87435424, 3.91292867, ..., 3.79373667, 2.40097554,\n",
       "        4.38111668],\n",
       "       [4.61911413, 3.90298081, 3.76854421, ..., 4.60185455, 3.77739687,\n",
       "        4.38111668],\n",
       "       [4.61911413, 3.98263348, 5.00846297, ..., 4.535161  , 4.2776001 ,\n",
       "        4.38111668]])"
      ]
     },
     "execution_count": 47,
     "metadata": {},
     "output_type": "execute_result"
    }
   ],
   "source": [
    "pos_feature"
   ]
  },
  {
   "cell_type": "code",
   "execution_count": 48,
   "id": "465389ac",
   "metadata": {},
   "outputs": [],
   "source": [
    "neg_feature = np.zeros((len(neg_lines), 31))\n",
    "for i in range(len(neg_lines)):\n",
    "    neg = neg_lines[i].strip()\n",
    "    j = 0\n",
    "    for n in neg:\n",
    "        n_index = my_alphabet.index(n)\n",
    "        feature_value = chi_square_statistical_difference_table_with_x[n_index,j]\n",
    "        neg_feature[i,j] = feature_value\n",
    "        j += 1"
   ]
  },
  {
   "cell_type": "code",
   "execution_count": 49,
   "id": "74c377e3",
   "metadata": {},
   "outputs": [],
   "source": [
    "feature = np.vstack((pos_feature,neg_feature))"
   ]
  },
  {
   "cell_type": "code",
   "execution_count": 50,
   "id": "cf8e1d08",
   "metadata": {},
   "outputs": [],
   "source": [
    "label = np.vstack((np.ones((len(pos_lines),1)), np.zeros((len(neg_lines),1))))"
   ]
  },
  {
   "cell_type": "code",
   "execution_count": 51,
   "id": "3fee383e",
   "metadata": {},
   "outputs": [],
   "source": [
    "data = np.hstack((label, feature))"
   ]
  },
  {
   "cell_type": "code",
   "execution_count": 52,
   "id": "3b080b9f",
   "metadata": {},
   "outputs": [
    {
     "data": {
      "text/plain": [
       "array([[1.        , 3.19856244, 3.66946914, ..., 4.60185455, 3.65365843,\n",
       "        4.15796699],\n",
       "       [1.        , 3.19856244, 4.11503087, ..., 3.82831446, 3.39268283,\n",
       "        3.57233784],\n",
       "       [1.        , 3.08143534, 4.17340011, ..., 3.7278181 , 4.79040793,\n",
       "        4.48897478],\n",
       "       ...,\n",
       "       [0.        , 4.15900003, 3.98056816, ..., 3.50541268, 4.44016025,\n",
       "        3.53099931],\n",
       "       [0.        , 3.00242418, 3.90298081, ..., 3.55406387, 4.35998046,\n",
       "        3.71075928],\n",
       "       [0.        , 4.26551297, 3.90298081, ..., 3.98119626, 3.66382632,\n",
       "        4.74632   ]])"
      ]
     },
     "execution_count": 52,
     "metadata": {},
     "output_type": "execute_result"
    }
   ],
   "source": [
    "data"
   ]
  },
  {
   "cell_type": "code",
   "execution_count": 53,
   "id": "a96a45d2",
   "metadata": {},
   "outputs": [],
   "source": [
    "new_data = np.hstack((data[:,:17], data[:,18:]))"
   ]
  },
  {
   "cell_type": "code",
   "execution_count": 54,
   "id": "233a9359",
   "metadata": {},
   "outputs": [],
   "source": [
    "col_name = ['CSDT_'+str(i+1) for i in range(30)]\n",
    "col_name.insert(0,'label')"
   ]
  },
  {
   "cell_type": "code",
   "execution_count": 55,
   "id": "45d49644",
   "metadata": {},
   "outputs": [],
   "source": [
    "df = pd.DataFrame(new_data,columns=col_name)"
   ]
  },
  {
   "cell_type": "code",
   "execution_count": 56,
   "id": "ae0caf39",
   "metadata": {},
   "outputs": [],
   "source": [
    "df.to_csv(r\"D:\\study\\paper\\ubiquitination\\Arab\\feature_extraction\\win31_new\\test\\test_csdt.csv\", index=False)"
   ]
  },
  {
   "cell_type": "code",
   "execution_count": null,
   "id": "a5c6d24d",
   "metadata": {},
   "outputs": [],
   "source": []
  }
 ],
 "metadata": {
  "kernelspec": {
   "display_name": "Python 3",
   "language": "python",
   "name": "python3"
  },
  "language_info": {
   "codemirror_mode": {
    "name": "ipython",
    "version": 3
   },
   "file_extension": ".py",
   "mimetype": "text/x-python",
   "name": "python",
   "nbconvert_exporter": "python",
   "pygments_lexer": "ipython3",
   "version": "3.6.13"
  }
 },
 "nbformat": 4,
 "nbformat_minor": 5
}
