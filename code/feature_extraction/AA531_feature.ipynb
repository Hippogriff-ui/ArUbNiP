{
 "cells": [
  {
   "cell_type": "code",
   "execution_count": 1,
   "id": "c27567e6",
   "metadata": {
    "ExecuteTime": {
     "end_time": "2023-04-08T06:16:15.575763Z",
     "start_time": "2023-04-08T06:16:15.551058Z"
    }
   },
   "outputs": [],
   "source": [
    "import numpy as np\n",
    "import pandas as pd\n",
    "import os\n",
    "from tqdm import tqdm"
   ]
  },
  {
   "cell_type": "code",
   "execution_count": 2,
   "id": "c845bb63",
   "metadata": {
    "ExecuteTime": {
     "end_time": "2023-04-08T06:16:16.912287Z",
     "start_time": "2023-04-08T06:16:16.730016Z"
    }
   },
   "outputs": [],
   "source": [
    "aa531 = pd.read_excel(\"../ubiquitination/AA531properties.xlsx\")"
   ]
  },
  {
   "cell_type": "code",
   "execution_count": 3,
   "id": "43d67cd0",
   "metadata": {},
   "outputs": [],
   "source": [
    "aa531_num = aa531.shape[1]-1\n",
    "aa531_dict = {}\n",
    "for i in range(aa531.shape[0]):\n",
    "    aa531_dict[aa531.iloc[i,0]] = aa531.iloc[i,1:].values"
   ]
  },
  {
   "cell_type": "code",
   "execution_count": 4,
   "id": "f893b7a9",
   "metadata": {},
   "outputs": [],
   "source": [
    "def aa531_feature(input_path,output_dir):\n",
    "    \n",
    "    #打开txt文件并读取内容\n",
    "    with open(input_path, 'r') as f1:\n",
    "        lines = f1.readlines()\n",
    "        stripped_lines = [line.strip() for line in lines]\n",
    "    \n",
    "    # 读取fasta文件\n",
    "#     file = open(input_path, \"r\")\n",
    "#     sequences = []\n",
    "#     for seq_record in SeqIO.parse(file, \"fasta\"):\n",
    "#         sequences.append(str(seq_record.seq))\n",
    "#     # 关闭文件\n",
    "#     file.close()\n",
    "    \n",
    "    rows = len(stripped_lines)\n",
    "    win_size = len(stripped_lines[0])\n",
    "    aa531_matrix = np.zeros((rows,win_size*aa531_num))\n",
    "\n",
    "    for k in range(rows):\n",
    "        seq = stripped_lines[k]\n",
    "        list_531 = []\n",
    "        for i in range(aa531_num):\n",
    "            aa531_values = [aa531_dict[s][i] for s in seq]\n",
    "            list_531.extend(aa531_values)\n",
    "        aa531_matrix[k, :] = list_531\n",
    "        \n",
    "    if 'train' in input_path and 'pos' in input_path:\n",
    "        \n",
    "        np.savetxt(output_dir+'train_pos'+'_AA531'+'.txt',aa531_matrix,fmt='%g',delimiter=',')\n",
    "        \n",
    "    elif 'train' in input_path and 'neg' in input_path:\n",
    "        \n",
    "        np.savetxt(output_dir+'train_neg'+'_AA531'+'.txt',aa531_matrix,fmt='%g',delimiter=',')\n",
    "        \n",
    "    elif 'test' in input_path and 'pos' in input_path:\n",
    "        \n",
    "        np.savetxt(output_dir+'test_pos'+'_AA531'+'.txt',aa531_matrix,fmt='%g',delimiter=',')\n",
    "        \n",
    "    elif 'test' in input_path and 'neg' in input_path:\n",
    "        \n",
    "        np.savetxt(output_dir+'test_neg'+'_AA531'+'.txt',aa531_matrix,fmt='%g',delimiter=',')\n",
    "    "
   ]
  },
  {
   "cell_type": "code",
   "execution_count": 13,
   "id": "def1e8fc",
   "metadata": {},
   "outputs": [
    {
     "name": "stderr",
     "output_type": "stream",
     "text": [
      "100%|████████████████████████████████████████████████████████████████████████████████████| 2/2 [00:11<00:00,  5.81s/it]\n"
     ]
    }
   ],
   "source": [
    "if __name__=='__main__':\n",
    "    input_dir = \"../ubiquitination/Oryza_sativa/dataset/test_win31/\"\n",
    "    output_dir = \"../ubiquitination/Oryza_sativa/feature_construction/test_win31/\"\n",
    "    files = os.listdir(input_dir)\n",
    "\n",
    "    for f in tqdm(files):\n",
    "        input_path = input_dir+f\n",
    "        aa531_feature(input_path,output_dir)"
   ]
  },
  {
   "cell_type": "code",
   "execution_count": null,
   "id": "52f1a4b6",
   "metadata": {},
   "outputs": [],
   "source": []
  }
 ],
 "metadata": {
  "kernelspec": {
   "display_name": "Python 3 (ipykernel)",
   "language": "python",
   "name": "python3"
  },
  "language_info": {
   "codemirror_mode": {
    "name": "ipython",
    "version": 3
   },
   "file_extension": ".py",
   "mimetype": "text/x-python",
   "name": "python",
   "nbconvert_exporter": "python",
   "pygments_lexer": "ipython3",
   "version": "3.10.9"
  }
 },
 "nbformat": 4,
 "nbformat_minor": 5
}
