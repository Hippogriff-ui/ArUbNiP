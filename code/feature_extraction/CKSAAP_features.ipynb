{
 "cells": [
  {
   "cell_type": "code",
   "execution_count": 1,
   "id": "a3d4c4e9",
   "metadata": {
    "ExecuteTime": {
     "end_time": "2023-04-08T06:23:46.553880Z",
     "start_time": "2023-04-08T06:23:46.363952Z"
    }
   },
   "outputs": [],
   "source": [
    "import numpy as np\n",
    "from Bio import SeqIO\n",
    "import os\n",
    "from tqdm import tqdm"
   ]
  },
  {
   "cell_type": "code",
   "execution_count": 2,
   "id": "5975a6e1",
   "metadata": {
    "ExecuteTime": {
     "end_time": "2023-04-08T06:25:22.967667Z",
     "start_time": "2023-04-08T06:25:22.949876Z"
    },
    "code_folding": []
   },
   "outputs": [],
   "source": [
    "def cksaap(input_path, output_dir, kmax):\n",
    "    \n",
    "        # 打开txt文件并读取内容\n",
    "    with open(input_path, 'r') as f1:\n",
    "        lines = f1.readlines()\n",
    "        stripped_lines = [line.strip() for line in lines]\n",
    "    \n",
    "#     file = open(input_path, \"r\")\n",
    "#     sequences = []\n",
    "#     for seq_record in SeqIO.parse(file, \"fasta\"):\n",
    "#         sequences.append(str(seq_record.seq))\n",
    "#     # 关闭文件\n",
    "#     file.close()\n",
    "\n",
    "    # Define the amino acid alphabet\n",
    "    aa_alphabet = 'ACDEFGHIKLMNPQRSTVWY'\n",
    "    num_aa = len(aa_alphabet)\n",
    "    rows = len(stripped_lines)\n",
    "    feature_mat = np.zeros((rows, num_aa*num_aa*(kmax+1)))\n",
    "    \n",
    "    row_ind = 0\n",
    "    for x in range(rows):\n",
    "        s = stripped_lines[x]\n",
    "        # Initialize the frequency matrix M\n",
    "        M = np.zeros((num_aa, num_aa, kmax+1))\n",
    "        \n",
    "        # Count the number of occurrences of each amino acid pair\n",
    "        for i in range(len(s)):\n",
    "            for j in range(i+1, min(i+kmax+1, len(s))):\n",
    "                if s[i] != 'X' and s[j] != 'X': \n",
    "                    aa_i = aa_alphabet.index(s[i])\n",
    "                    aa_j = aa_alphabet.index(s[j])\n",
    "                    k = j - i - 1\n",
    "                    M[aa_i, aa_j, k] += 1\n",
    "\n",
    "        # Normalize the frequency matrix to obtain the probability matrix P\n",
    "        P = np.zeros((num_aa, num_aa, kmax+1))\n",
    "        for k in range(kmax+1):\n",
    "            norm = np.sum(M[:, :, k])\n",
    "            if norm > 0:\n",
    "                P[:, :, k] = M[:, :, k] / norm\n",
    "            else:\n",
    "                P[:, :, k] = 0\n",
    "\n",
    "        # Flatten the probability matrix into a feature vector\n",
    "        feat = P.reshape(num_aa*num_aa*(kmax+1),)\n",
    "        feature_mat[row_ind,:] = feat\n",
    "        row_ind += 1\n",
    "\n",
    "    if 'train' in input_path and 'pos' in input_path:\n",
    "        \n",
    "        np.savetxt(output_dir+'train_pos'+'_CKSAAP'+'.txt',feature_mat,fmt='%g',delimiter=',')\n",
    "        \n",
    "    elif 'train' in input_path and 'neg' in input_path:\n",
    "        \n",
    "        np.savetxt(output_dir+'train_neg'+'_CKSAAP'+'.txt',feature_mat,fmt='%g',delimiter=',')\n",
    "        \n",
    "    elif 'test' in input_path and 'pos' in input_path:\n",
    "        \n",
    "        np.savetxt(output_dir+'test_pos'+'_CKSAAP'+'.txt',feature_mat,fmt='%g',delimiter=',')\n",
    "        \n",
    "    elif 'test' in input_path and 'neg' in input_path:\n",
    "        \n",
    "        np.savetxt(output_dir+'test_neg'+'_CKSAAP'+'.txt',feature_mat,fmt='%g',delimiter=',')"
   ]
  },
  {
   "cell_type": "code",
   "execution_count": 11,
   "id": "1bf3ac10",
   "metadata": {},
   "outputs": [
    {
     "name": "stderr",
     "output_type": "stream",
     "text": [
      "100%|████████████████████████████████████████████████████████████████████████████████████| 2/2 [00:01<00:00,  1.92it/s]\n"
     ]
    }
   ],
   "source": [
    "if __name__=='__main__':\n",
    "    input_dir = \"../ubiquitination/Oryza_sativa/dataset/test_win31/\"\n",
    "    output_dir = \"../ubiquitination/Oryza_sativa/feature_construction/test_win31/\"\n",
    "    files= os.listdir(input_dir)\n",
    "\n",
    "    for f in tqdm(files):\n",
    "        input_path = input_dir+f\n",
    "        cksaap(input_path,output_dir,4)"
   ]
  },
  {
   "cell_type": "code",
   "execution_count": null,
   "id": "07c5522a",
   "metadata": {},
   "outputs": [],
   "source": []
  }
 ],
 "metadata": {
  "kernelspec": {
   "display_name": "Python 3 (ipykernel)",
   "language": "python",
   "name": "python3"
  },
  "language_info": {
   "codemirror_mode": {
    "name": "ipython",
    "version": 3
   },
   "file_extension": ".py",
   "mimetype": "text/x-python",
   "name": "python",
   "nbconvert_exporter": "python",
   "pygments_lexer": "ipython3",
   "version": "3.10.9"
  }
 },
 "nbformat": 4,
 "nbformat_minor": 5
}
