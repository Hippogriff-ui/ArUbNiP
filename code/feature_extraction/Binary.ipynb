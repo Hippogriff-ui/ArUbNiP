{
 "cells": [
  {
   "cell_type": "code",
   "execution_count": 1,
   "id": "cde96492",
   "metadata": {},
   "outputs": [],
   "source": [
    "import numpy as np\n",
    "import os\n",
    "from tqdm import tqdm"
   ]
  },
  {
   "cell_type": "code",
   "execution_count": 2,
   "id": "0fa2ccb0",
   "metadata": {},
   "outputs": [],
   "source": [
    "def create_amino_acid_dict():\n",
    "\n",
    "    A = np.eye(20)\n",
    "    a = np.zeros((1, 20))\n",
    "    A = np.vstack((A, a))\n",
    "\n",
    "    B = np.array(['A', 'R', 'N', 'D', 'C', 'Q', 'E', 'G', 'H', 'I', 'L', 'K', 'M', 'F', 'P', 'S', 'T', 'W', 'V', 'Y', 'X'])\n",
    "\n",
    "    amino_acid_dict = {}\n",
    "    for k in range(21):\n",
    "        amino_acid_dict[B[k]] = A[k, :]\n",
    "\n",
    "    return amino_acid_dict"
   ]
  },
  {
   "cell_type": "code",
   "execution_count": 3,
   "id": "93dc009b",
   "metadata": {},
   "outputs": [],
   "source": [
    "amino_acid_dict = create_amino_acid_dict()"
   ]
  },
  {
   "cell_type": "code",
   "execution_count": 4,
   "id": "400af14a",
   "metadata": {},
   "outputs": [],
   "source": [
    "def binary_code(input_path, output_dir):\n",
    "    \n",
    "    #打开txt文件并读取内容\n",
    "    with open(input_path, 'r') as f1:\n",
    "        lines = f1.readlines()\n",
    "        stripped_lines = [line.strip() for line in lines]\n",
    "\n",
    "    row_num = len(stripped_lines)\n",
    "    win_size = len(stripped_lines[0])\n",
    "\n",
    "    binary_matrix = np.zeros((row_num, win_size*20))\n",
    "\n",
    "    for i in range(row_num):\n",
    "        seq = stripped_lines[i]\n",
    "        binary_list = []\n",
    "        for s in seq:\n",
    "            binary_list.extend(amino_acid_dict[s])\n",
    "        binary_matrix[i,:] = binary_list\n",
    "        \n",
    "    if 'train' in input_path and 'pos' in input_path:\n",
    "        \n",
    "        np.savetxt(output_dir+'train_pos'+'_Binary'+'.txt',binary_matrix,fmt='%g',delimiter=',')\n",
    "        \n",
    "    elif 'train' in input_path and 'neg' in input_path:\n",
    "        \n",
    "        np.savetxt(output_dir+'train_neg'+'_Binary'+'.txt',binary_matrix,fmt='%g',delimiter=',')\n",
    "        \n",
    "    elif 'test' in input_path and 'pos' in input_path:\n",
    "        \n",
    "        np.savetxt(output_dir+'test_pos'+'_Binary'+'.txt',binary_matrix,fmt='%g',delimiter=',')\n",
    "        \n",
    "    elif 'test' in input_path and 'neg' in input_path:\n",
    "        \n",
    "        np.savetxt(output_dir+'test_neg'+'_Binary'+'.txt',binary_matrix,fmt='%g',delimiter=',')   "
   ]
  },
  {
   "cell_type": "code",
   "execution_count": 13,
   "id": "4a6fd6b0",
   "metadata": {},
   "outputs": [
    {
     "name": "stderr",
     "output_type": "stream",
     "text": [
      "100%|████████████████████████████████████████████████████████████████████████████████████| 2/2 [00:00<00:00,  6.77it/s]\n"
     ]
    }
   ],
   "source": [
    "if __name__=='__main__':\n",
    "    input_dir = \"../ubiquitination/Oryza_sativa/dataset/test_win31/\"\n",
    "    output_dir = \"../ubiquitination/Oryza_sativa/feature_construction/test_win31/\"\n",
    "    files = os.listdir(input_dir)\n",
    "\n",
    "    for f in tqdm(files):\n",
    "        input_path = input_dir+f\n",
    "        binary_code(input_path,output_dir)"
   ]
  },
  {
   "cell_type": "code",
   "execution_count": null,
   "id": "af73414d",
   "metadata": {},
   "outputs": [],
   "source": []
  }
 ],
 "metadata": {
  "kernelspec": {
   "display_name": "Python 3 (ipykernel)",
   "language": "python",
   "name": "python3"
  },
  "language_info": {
   "codemirror_mode": {
    "name": "ipython",
    "version": 3
   },
   "file_extension": ".py",
   "mimetype": "text/x-python",
   "name": "python",
   "nbconvert_exporter": "python",
   "pygments_lexer": "ipython3",
   "version": "3.10.9"
  }
 },
 "nbformat": 4,
 "nbformat_minor": 5
}
