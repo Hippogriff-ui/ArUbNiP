{
 "cells": [
  {
   "cell_type": "code",
   "execution_count": 1,
   "id": "9579a9b2",
   "metadata": {},
   "outputs": [],
   "source": [
    "import numpy as np\n",
    "import os\n",
    "from tqdm import tqdm"
   ]
  },
  {
   "cell_type": "code",
   "execution_count": 2,
   "id": "80e3f0a8",
   "metadata": {},
   "outputs": [],
   "source": [
    "def pwm(input_path, output_dir):\n",
    "    \n",
    "    #打开txt文件并读取内容\n",
    "    with open(input_path, 'r') as f1:\n",
    "        lines = f1.readlines()\n",
    "        stripped_lines = [line.strip() for line in lines]\n",
    "\n",
    "    row_num = len(stripped_lines)\n",
    "    win_size = len(stripped_lines[0])\n",
    "\n",
    "    # 氨基酸排序\n",
    "    B = ['A', 'R', 'N', 'D', 'C', 'Q', 'E',\n",
    "         'G', 'H', 'I', 'L', 'K', 'M', 'F',\n",
    "         'P', 'S', 'T', 'W', 'V', 'Y', 'X']\n",
    "\n",
    "    D = np.zeros((21, win_size))\n",
    "\n",
    "    for i in range(21):\n",
    "        for j in range(win_size):\n",
    "            count = sum(1 for s in stripped_lines if s[j] == B[i])\n",
    "            c = count / row_num\n",
    "            D[i, j] = c\n",
    "\n",
    "    pwm_matrix = np.zeros((row_num, win_size))\n",
    "\n",
    "    for i in range(row_num):\n",
    "        for j in range(win_size):\n",
    "            k = B.index(stripped_lines[i][j])\n",
    "            pwm_matrix[i, j] = D[k, j]\n",
    "\n",
    "    if 'train' in input_path and 'pos' in input_path:\n",
    "        \n",
    "        np.savetxt(output_dir+'train_pos'+'_PWM'+'.txt',pwm_matrix,fmt='%g',delimiter=',')\n",
    "        \n",
    "    elif 'train' in input_path and 'neg' in input_path:\n",
    "        \n",
    "        np.savetxt(output_dir+'train_neg'+'_PWM'+'.txt',pwm_matrix,fmt='%g',delimiter=',')\n",
    "        \n",
    "    elif 'test' in input_path and 'pos' in input_path:\n",
    "        \n",
    "        np.savetxt(output_dir+'test_pos'+'_PWM'+'.txt',pwm_matrix,fmt='%g',delimiter=',')\n",
    "        \n",
    "    elif 'test' in input_path and 'neg' in input_path:\n",
    "        \n",
    "        np.savetxt(output_dir+'test_neg'+'_PWM'+'.txt',pwm_matrix,fmt='%g',delimiter=',')\n"
   ]
  },
  {
   "cell_type": "code",
   "execution_count": 12,
   "id": "bb595e1d",
   "metadata": {},
   "outputs": [
    {
     "name": "stderr",
     "output_type": "stream",
     "text": [
      "100%|████████████████████████████████████████████████████████████████████████████████████| 2/2 [00:00<00:00, 10.52it/s]\n"
     ]
    }
   ],
   "source": [
    "if __name__=='__main__':\n",
    "    input_dir = \"../ubiquitination/Oryza_sativa/dataset/test_win31/\"\n",
    "    output_dir = \"../ubiquitination/Oryza_sativa/feature_construction/test_win31/\"\n",
    "    files = os.listdir(input_dir)\n",
    "\n",
    "    for f in tqdm(files):\n",
    "        input_path = input_dir+f\n",
    "        pwm(input_path,output_dir)"
   ]
  },
  {
   "cell_type": "code",
   "execution_count": null,
   "id": "904340e6",
   "metadata": {},
   "outputs": [],
   "source": []
  }
 ],
 "metadata": {
  "kernelspec": {
   "display_name": "Python 3 (ipykernel)",
   "language": "python",
   "name": "python3"
  },
  "language_info": {
   "codemirror_mode": {
    "name": "ipython",
    "version": 3
   },
   "file_extension": ".py",
   "mimetype": "text/x-python",
   "name": "python",
   "nbconvert_exporter": "python",
   "pygments_lexer": "ipython3",
   "version": "3.10.9"
  }
 },
 "nbformat": 4,
 "nbformat_minor": 5
}
