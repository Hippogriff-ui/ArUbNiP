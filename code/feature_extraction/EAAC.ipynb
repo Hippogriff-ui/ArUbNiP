{
 "cells": [
  {
   "cell_type": "code",
   "execution_count": 1,
   "id": "ca5b4d9e",
   "metadata": {},
   "outputs": [],
   "source": [
    "import numpy as np\n",
    "import os\n",
    "from tqdm import tqdm"
   ]
  },
  {
   "cell_type": "code",
   "execution_count": 2,
   "id": "66810c46",
   "metadata": {},
   "outputs": [],
   "source": [
    "def eaac_encoding(input_path, output_dir, window_size):\n",
    "    \n",
    "    #打开txt文件并读取内容\n",
    "    with open(input_path, 'r') as f1:\n",
    "        lines = f1.readlines()\n",
    "        stripped_lines = [line.strip() for line in lines]\n",
    "    \n",
    "    amino_acids = 'ACDEFGHIKLMNPQRSTVWY'  # 标准氨基酸\n",
    "    num_amino_acids = len(amino_acids)\n",
    "    sequence_length = len(stripped_lines[0])\n",
    "    num_windows = sequence_length - window_size + 1\n",
    "    rows = len(stripped_lines)\n",
    "    \n",
    "    output_matrix = np.zeros((rows, num_windows*num_amino_acids))\n",
    "    for a in range(rows):\n",
    "        seq = stripped_lines[a]\n",
    "        encoding = []\n",
    "        for i in range(num_windows):\n",
    "            window = seq[i:i+window_size]\n",
    "            for j, amino_acid in enumerate(amino_acids):\n",
    "                count = window.count(amino_acid)\n",
    "                encoding.append(count)\n",
    "        output_matrix[a,:] = encoding\n",
    "    \n",
    "    if 'train' in input_path and 'pos' in input_path:\n",
    "        \n",
    "        np.savetxt(output_dir+'train_pos'+'_EAAC'+'.txt',output_matrix,fmt='%g',delimiter=',')\n",
    "        \n",
    "    elif 'train' in input_path and 'neg' in input_path:\n",
    "        \n",
    "        np.savetxt(output_dir+'train_neg'+'_EAAC'+'.txt',output_matrix,fmt='%g',delimiter=',')\n",
    "        \n",
    "    elif 'test' in input_path and 'pos' in input_path:\n",
    "        \n",
    "        np.savetxt(output_dir+'test_pos'+'_EAAC'+'.txt',output_matrix,fmt='%g',delimiter=',')\n",
    "        \n",
    "    elif 'test' in input_path and 'neg' in input_path:\n",
    "        \n",
    "        np.savetxt(output_dir+'test_neg'+'_EAAC'+'.txt',output_matrix,fmt='%g',delimiter=',')"
   ]
  },
  {
   "cell_type": "code",
   "execution_count": 11,
   "id": "2ffaf48c",
   "metadata": {},
   "outputs": [
    {
     "name": "stderr",
     "output_type": "stream",
     "text": [
      "100%|████████████████████████████████████████████████████████████████████████████████████| 2/2 [00:00<00:00,  4.17it/s]\n"
     ]
    }
   ],
   "source": [
    "if __name__=='__main__':\n",
    "    input_dir = \"../ubiquitination/Oryza_sativa/dataset/test_win31/\"\n",
    "    output_dir = \"../ubiquitination/Oryza_sativa/feature_construction/test_win31/\"\n",
    "    files= os.listdir(input_dir)\n",
    "\n",
    "    for f in tqdm(files):\n",
    "        input_path = input_dir+f\n",
    "        eaac_encoding(input_path, output_dir, 5)"
   ]
  },
  {
   "cell_type": "code",
   "execution_count": null,
   "id": "aab3ad2d",
   "metadata": {},
   "outputs": [],
   "source": []
  }
 ],
 "metadata": {
  "kernelspec": {
   "display_name": "Python 3 (ipykernel)",
   "language": "python",
   "name": "python3"
  },
  "language_info": {
   "codemirror_mode": {
    "name": "ipython",
    "version": 3
   },
   "file_extension": ".py",
   "mimetype": "text/x-python",
   "name": "python",
   "nbconvert_exporter": "python",
   "pygments_lexer": "ipython3",
   "version": "3.10.9"
  }
 },
 "nbformat": 4,
 "nbformat_minor": 5
}
