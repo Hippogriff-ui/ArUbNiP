{
 "cells": [
  {
   "cell_type": "code",
   "execution_count": 1,
   "id": "daacb720",
   "metadata": {},
   "outputs": [],
   "source": [
    "import numpy as np\n",
    "import pandas as pd\n",
    "from sklearn.metrics import matthews_corrcoef\n",
    "from sklearn.metrics import confusion_matrix\n",
    "from sklearn.model_selection import StratifiedKFold\n",
    "from sklearn.metrics import accuracy_score\n",
    "from sklearn import tree\n",
    "from sklearn.metrics import roc_auc_score\n",
    "from imblearn.over_sampling import SMOTE"
   ]
  },
  {
   "cell_type": "code",
   "execution_count": 2,
   "id": "8a331fb0",
   "metadata": {},
   "outputs": [],
   "source": [
    "def smote(X,y):\n",
    "    smote = SMOTE(random_state= 123)\n",
    "    X_resampled, y_resampled = smote.fit_resample(X, y)\n",
    "    return X_resampled, y_resampled"
   ]
  },
  {
   "cell_type": "code",
   "execution_count": 5,
   "id": "637c9e79",
   "metadata": {},
   "outputs": [],
   "source": [
    "train_data = np.loadtxt(\"../ubiquitination/null_importances_result/train_test/train_pca.txt\")\n",
    "test_data = np.loadtxt(\"../ubiquitination/null_importances_result/train_test/test_pca.txt\")\n",
    "train_X = train_data[:,1:]\n",
    "train_y = train_data[:,0]\n",
    "test_X = test_data[:,1:]\n",
    "test_y = test_data[:,0]"
   ]
  },
  {
   "cell_type": "code",
   "execution_count": 8,
   "id": "cef65240",
   "metadata": {},
   "outputs": [],
   "source": [
    "def dt_kfold(X, y, output_path, k_fold_cv, max_depth):\n",
    "    \n",
    "    output_path = output_path\n",
    "\n",
    "    smote_result_dict = {}\n",
    "\n",
    "    smote_result_dict['method'] = 'DT'+'_'+str(int(k_fold_cv))+'_kfold'+'_smote'\n",
    "\n",
    "    skf = StratifiedKFold(n_splits = k_fold_cv, random_state = 123, shuffle = True)\n",
    "\n",
    "    smote_dt_model = tree.DecisionTreeClassifier(max_depth = max_depth, random_state = 123)\n",
    "\n",
    "    y_test_array = np.array([])\n",
    "    y_pred_array = np.array([])\n",
    "    y_pred_proba_1 = np.array([])\n",
    "\n",
    "    for train_index, test_index in skf.split(X, y):\n",
    "        X_train, X_test = X[train_index], X[test_index]\n",
    "        y_train, y_test = y[train_index], y[test_index]\n",
    "\n",
    "        smote_x, smote_y = smote(X_train,y_train)\n",
    "\n",
    "        smote_dt_model.fit(smote_x, smote_y)\n",
    "\n",
    "        smote_y_pred = smote_dt_model.predict(X_test)\n",
    "        \n",
    "        smote_y_pred_proba_1 = smote_dt_model.predict_proba(X_test)[:,1]\n",
    "        \n",
    "        y_test_array = np.concatenate((y_test_array, y_test))\n",
    "        y_pred_array = np.concatenate((y_pred_array, smote_y_pred))\n",
    "        y_pred_proba_1 = np.concatenate((y_pred_proba_1, smote_y_pred_proba_1))\n",
    "\n",
    "    smote_result_dict['ACC'] = accuracy_score(y_test_array, y_pred_array)\n",
    "\n",
    "    smote_result_dict['MCC'] = matthews_corrcoef(y_test_array, y_pred_array)\n",
    "\n",
    "    smote_tn, smote_fp, smote_fn, smote_tp = confusion_matrix(y_test_array, y_pred_array).ravel()\n",
    "\n",
    "    smote_result_dict['Sensitivity'] = smote_tp / (smote_tp + smote_fn)\n",
    "\n",
    "    smote_result_dict['Specificity'] = smote_tn / (smote_tn + smote_fp)\n",
    "\n",
    "    smote_result_dict['AUC'] = roc_auc_score(y_test_array, y_pred_proba_1)\n",
    "\n",
    "    original_data = pd.read_excel(output_path)\n",
    "\n",
    "    smote_result_df = pd.DataFrame(smote_result_dict, index=[0])\n",
    "\n",
    "    smote_save_result = pd.concat([original_data, smote_result_df], axis=0)\n",
    "\n",
    "    smote_save_result.to_excel(output_path, index=False)"
   ]
  },
  {
   "cell_type": "code",
   "execution_count": 10,
   "id": "203abaa8",
   "metadata": {},
   "outputs": [],
   "source": [
    "dt_kfold(train_X, train_y, \"C:/Users/Li Xiaokang/Desktop/kfold_result.xlsx\", 5, 3)"
   ]
  },
  {
   "cell_type": "code",
   "execution_count": 11,
   "id": "e577cf92",
   "metadata": {},
   "outputs": [],
   "source": [
    "def dt_independent_test(X_train, y_train, X_test, y_test, output_path, max_depth):\n",
    "\n",
    "    output_path = output_path\n",
    "\n",
    "    smote_result_dict = {}\n",
    "\n",
    "    smote_result_dict['method'] = 'win31_DT_'+'smote'\n",
    "\n",
    "    smote_x, smote_y = smote(X_train,y_train)\n",
    "\n",
    "    smote_dt_model = tree.DecisionTreeClassifier(max_depth=max_depth, random_state=123)\n",
    "\n",
    "    smote_dt_model.fit(smote_x, smote_y)\n",
    "\n",
    "    smote_y_pred = smote_dt_model.predict(X_test)\n",
    "\n",
    "    smote_accuracy = accuracy_score(y_test, smote_y_pred)\n",
    "\n",
    "    smote_result_dict['ACC'] = smote_accuracy\n",
    "\n",
    "    smote_mcc = matthews_corrcoef(y_test, smote_y_pred)\n",
    "\n",
    "    smote_result_dict['MCC'] = smote_mcc\n",
    "\n",
    "    smote_tn, smote_fp, smote_fn, smote_tp = confusion_matrix(y_test, smote_y_pred).ravel()\n",
    "\n",
    "    smote_sensitivity = smote_tp / (smote_tp + smote_fn)\n",
    "\n",
    "    smote_specificity = smote_tn / (smote_tn + smote_fp)\n",
    "\n",
    "    smote_result_dict['Sensitivity'] = smote_sensitivity\n",
    "\n",
    "    smote_result_dict['Specificity'] = smote_specificity\n",
    "\n",
    "    smote_y_pred_proba = smote_dt_model.predict_proba(X_test)\n",
    "\n",
    "    smote_auc = roc_auc_score(y_test, smote_y_pred_proba[:,1])\n",
    "\n",
    "    smote_result_dict['AUC'] = smote_auc\n",
    "\n",
    "    original_data = pd.read_excel(output_path)\n",
    "\n",
    "    smote_result_df = pd.DataFrame(smote_result_dict, index=[0])\n",
    "\n",
    "    smote_save_result = pd.concat([original_data, smote_result_df], axis=0)\n",
    "\n",
    "    smote_save_result.to_excel(output_path, index=False)"
   ]
  },
  {
   "cell_type": "code",
   "execution_count": 12,
   "id": "72886463",
   "metadata": {},
   "outputs": [],
   "source": [
    "dt_independent_test(train_X, train_y, test_X, test_y, \"C:/Users/Li Xiaokang/Desktop/independent_test_result.xlsx\" , 3)"
   ]
  },
  {
   "cell_type": "code",
   "execution_count": null,
   "id": "f8ba5cba",
   "metadata": {},
   "outputs": [],
   "source": []
  }
 ],
 "metadata": {
  "kernelspec": {
   "display_name": "Python 3 (ipykernel)",
   "language": "python",
   "name": "python3"
  },
  "language_info": {
   "codemirror_mode": {
    "name": "ipython",
    "version": 3
   },
   "file_extension": ".py",
   "mimetype": "text/x-python",
   "name": "python",
   "nbconvert_exporter": "python",
   "pygments_lexer": "ipython3",
   "version": "3.10.9"
  }
 },
 "nbformat": 4,
 "nbformat_minor": 5
}
