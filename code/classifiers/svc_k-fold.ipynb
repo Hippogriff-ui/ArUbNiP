{
 "cells": [
  {
   "cell_type": "code",
   "execution_count": 8,
   "id": "b830a090",
   "metadata": {},
   "outputs": [],
   "source": [
    "import numpy as np\n",
    "import pandas as pd\n",
    "from sklearn import svm # 导入svm包\n",
    "from sklearn import preprocessing # 导入数据预处理包\n",
    "from imblearn.over_sampling import SMOTE\n",
    "from sklearn.model_selection import StratifiedKFold\n",
    "from sklearn.metrics import matthews_corrcoef\n",
    "from sklearn.metrics import accuracy_score\n",
    "from tqdm import tqdm"
   ]
  },
  {
   "cell_type": "code",
   "execution_count": 9,
   "id": "6fedea69",
   "metadata": {},
   "outputs": [],
   "source": [
    "def smote(X,y):\n",
    "    smote = SMOTE(random_state = 123)\n",
    "    X_resampled, y_resampled = smote.fit_resample(X, y)\n",
    "    return X_resampled, y_resampled"
   ]
  },
  {
   "cell_type": "code",
   "execution_count": 10,
   "id": "ae0c057c",
   "metadata": {},
   "outputs": [],
   "source": [
    "data = pd.read_csv(\"C:/Users/Li Xiaokang/Desktop/null_importance_result/train31_RF_filtered_null_importances_0.05.csv\")\n",
    "data_val = data.values\n",
    "X = data_val[:,1:]\n",
    "y = data_val[:,0]"
   ]
  },
  {
   "cell_type": "code",
   "execution_count": 11,
   "id": "4e91ea61",
   "metadata": {},
   "outputs": [],
   "source": [
    "min_max_scaler = preprocessing.MinMaxScaler(feature_range=(-1,1))\n",
    "X = min_max_scaler.fit_transform(X)"
   ]
  },
  {
   "cell_type": "code",
   "execution_count": 12,
   "id": "2eb7b279",
   "metadata": {},
   "outputs": [],
   "source": [
    "def svc_kfold(X, y,  k_fold_cv):\n",
    "\n",
    "    skf = StratifiedKFold(n_splits = k_fold_cv, random_state = 123, shuffle = True)\n",
    "\n",
    "    acc_dict = {}\n",
    "    for c_ in tqdm([0.001, 0.01, 0.1, 1, 10, 100, 1000]):\n",
    "        for g_ in [1, 0.1, 0.01, 0.001, 0.0001]:\n",
    "            key = 'C = ' + str(c_) + ',' + 'gamma = ' + str(g_)\n",
    "\n",
    "            smote_svc_model = svm.SVC(C = c_, gamma = g_, random_state = 123)\n",
    "            \n",
    "            y_test_array = np.array([])\n",
    "            y_pred_array = np.array([])\n",
    "\n",
    "            for train_index, test_index in skf.split(X, y):\n",
    "                X_train, X_test = X[train_index], X[test_index]\n",
    "                y_train, y_test = y[train_index], y[test_index]\n",
    "\n",
    "                smote_x, smote_y = smote(X_train,y_train)\n",
    "\n",
    "                smote_y_pred = smote_svc_model.fit(smote_x, smote_y).predict(X_test)\n",
    "\n",
    "                y_test_array = np.concatenate((y_test_array, y_test))\n",
    "                y_pred_array = np.concatenate((y_pred_array, smote_y_pred))\n",
    "\n",
    "            acc_val = accuracy_score(y_test_array, y_pred_array)\n",
    "\n",
    "            acc_dict[key] = acc_val\n",
    "    \n",
    "    max_key = max(acc_dict, key = acc_dict.get)\n",
    "    max_value = acc_dict[max_key]\n",
    "    \n",
    "    return {max_key: max_value}"
   ]
  },
  {
   "cell_type": "code",
   "execution_count": 13,
   "id": "4971716c",
   "metadata": {},
   "outputs": [
    {
     "name": "stderr",
     "output_type": "stream",
     "text": [
      "100%|████████████████████████████████████████████████████████████████████████████████| 7/7 [2:49:50<00:00, 1455.74s/it]\n"
     ]
    },
    {
     "data": {
      "text/plain": [
       "{'C = 1000,gamma = 0.0001': 0.9236417033773862}"
      ]
     },
     "execution_count": 13,
     "metadata": {},
     "output_type": "execute_result"
    }
   ],
   "source": [
    "best_para = svc_kfold(X, y,  5)\n",
    "best_para"
   ]
  },
  {
   "cell_type": "code",
   "execution_count": null,
   "id": "3e155c1f",
   "metadata": {},
   "outputs": [],
   "source": []
  }
 ],
 "metadata": {
  "kernelspec": {
   "display_name": "Python 3 (ipykernel)",
   "language": "python",
   "name": "python3"
  },
  "language_info": {
   "codemirror_mode": {
    "name": "ipython",
    "version": 3
   },
   "file_extension": ".py",
   "mimetype": "text/x-python",
   "name": "python",
   "nbconvert_exporter": "python",
   "pygments_lexer": "ipython3",
   "version": "3.10.9"
  }
 },
 "nbformat": 4,
 "nbformat_minor": 5
}
