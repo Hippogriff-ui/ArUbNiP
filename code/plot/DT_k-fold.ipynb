{
 "cells": [
  {
   "cell_type": "code",
   "execution_count": 6,
   "id": "a850401e",
   "metadata": {},
   "outputs": [],
   "source": [
    "import numpy as np\n",
    "import pandas as pd\n",
    "from sklearn.metrics import matthews_corrcoef\n",
    "from sklearn.metrics import confusion_matrix\n",
    "from sklearn.model_selection import StratifiedKFold\n",
    "from sklearn.metrics import accuracy_score\n",
    "from sklearn import tree\n",
    "from imblearn.over_sampling import SMOTE\n",
    "from tqdm import tqdm"
   ]
  },
  {
   "cell_type": "code",
   "execution_count": 7,
   "id": "58e7efc4",
   "metadata": {},
   "outputs": [],
   "source": [
    "def smote(X,y):\n",
    "    smote = SMOTE(random_state = 123)\n",
    "    X_resampled, y_resampled = smote.fit_resample(X, y)\n",
    "    return X_resampled, y_resampled"
   ]
  },
  {
   "cell_type": "code",
   "execution_count": 8,
   "id": "4b0e3154",
   "metadata": {},
   "outputs": [],
   "source": [
    "data = pd.read_csv(r\"D:\\study\\paper\\ubiquitination\\null_importances_result\\train_test\\train_mrmr_human.csv\")\n",
    "data_val = data.values\n",
    "X = data_val[:,1:]\n",
    "y = data_val[:,0]"
   ]
  },
  {
   "cell_type": "code",
   "execution_count": 9,
   "id": "a87db8e4",
   "metadata": {},
   "outputs": [],
   "source": [
    "def dt_kfold(X, y,  k_fold_cv):\n",
    "\n",
    "    skf = StratifiedKFold(n_splits = k_fold_cv, random_state = 123, shuffle = True)\n",
    "\n",
    "    acc_dict = {}\n",
    "    for m_ in tqdm(range(3, 11, 1)):\n",
    "        key = 'max_depth = ' + str(m_)\n",
    "\n",
    "        smote_dt_model = tree.DecisionTreeClassifier(max_depth = m_, random_state = 123)\n",
    "\n",
    "        y_test_array = np.array([])\n",
    "        y_pred_array = np.array([])\n",
    "\n",
    "        for train_index, test_index in skf.split(X, y):\n",
    "            X_train, X_test = X[train_index], X[test_index]\n",
    "            y_train, y_test = y[train_index], y[test_index]\n",
    "\n",
    "            smote_x, smote_y = smote(X_train,y_train)\n",
    "\n",
    "            smote_y_pred = smote_dt_model.fit(smote_x, smote_y).predict(X_test)\n",
    "\n",
    "            y_test_array = np.concatenate((y_test_array, y_test))\n",
    "            y_pred_array = np.concatenate((y_pred_array, smote_y_pred))\n",
    "\n",
    "        acc_val = accuracy_score(y_test_array, y_pred_array)\n",
    "\n",
    "        acc_dict[key] = acc_val\n",
    "    \n",
    "    max_key = max(acc_dict, key = acc_dict.get)\n",
    "    max_value = acc_dict[max_key]\n",
    "    \n",
    "    return {max_key: max_value}"
   ]
  },
  {
   "cell_type": "code",
   "execution_count": 10,
   "id": "26e2435d",
   "metadata": {},
   "outputs": [
    {
     "name": "stderr",
     "output_type": "stream",
     "text": [
      "100%|████████████████████████████████████████████████████████████████████████████████████| 8/8 [01:15<00:00,  9.49s/it]\n"
     ]
    },
    {
     "data": {
      "text/plain": [
       "{'max_depth = 10': 0.9997078016947502}"
      ]
     },
     "execution_count": 10,
     "metadata": {},
     "output_type": "execute_result"
    }
   ],
   "source": [
    "best_para = dt_kfold(X, y,  5)\n",
    "best_para"
   ]
  },
  {
   "cell_type": "code",
   "execution_count": null,
   "id": "9d2d7dac",
   "metadata": {},
   "outputs": [],
   "source": []
  }
 ],
 "metadata": {
  "kernelspec": {
   "display_name": "Python 3 (ipykernel)",
   "language": "python",
   "name": "python3"
  },
  "language_info": {
   "codemirror_mode": {
    "name": "ipython",
    "version": 3
   },
   "file_extension": ".py",
   "mimetype": "text/x-python",
   "name": "python",
   "nbconvert_exporter": "python",
   "pygments_lexer": "ipython3",
   "version": "3.10.9"
  }
 },
 "nbformat": 4,
 "nbformat_minor": 5
}
