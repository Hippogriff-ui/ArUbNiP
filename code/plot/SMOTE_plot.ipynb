{
 "cells": [
  {
   "cell_type": "code",
   "execution_count": 1,
   "id": "7564f59c",
   "metadata": {},
   "outputs": [],
   "source": [
    "import numpy as np\n",
    "import matplotlib.pyplot as plt"
   ]
  },
  {
   "cell_type": "code",
   "execution_count": null,
   "id": "48dbec54",
   "metadata": {},
   "outputs": [],
   "source": [
    "performance = ['ACC', 'MCC', 'Sn','Sp', 'AUC']\n",
    "# k_fold = [0.992, 0.980, 0.970, 1.000, 1.000]\n",
    "# ind_test = [0.866, 0.665, 0.816, 0.883, 0.931]\n",
    "\n",
    "k_fold = [0.986, 0.962, 0.952, 0.997, 0.997]\n",
    "ind_test = [0.930, 0.827, 0.941, 0.926, 0.979]\n",
    "\n",
    "# set font size\n",
    "plt.rcParams.update({'font.size': 10})\n",
    "\n",
    "# create grouped bar chart\n",
    "fig, ax = plt.subplots()\n",
    "bar_width = 0.35\n",
    "x = np.arange(len(performance))\n",
    "ax.bar(x - bar_width/2, k_fold, bar_width, color='tab:blue', alpha=0.8, edgecolor='black', label='five-fold')\n",
    "ax.bar(x + bar_width/2, ind_test, bar_width, color='tab:orange', alpha=0.8, edgecolor='black', label='independent dataset')\n",
    "\n",
    "# set axis labels and title\n",
    "ax.set_xlabel('performance')\n",
    "ax.set_ylabel('value')\n",
    "ax.set_xticks([r + bar_width / 2 for r in range(len(performance))])\n",
    "ax.set_xticklabels(performance)\n",
    "\n",
    "# add legend\n",
    "ax.legend()\n",
    "\n",
    "# set DPI for high-resolution output\n",
    "fig.set_dpi(1200)\n",
    "\n",
    "# save figure as PNG file for preservation\n",
    "fig.savefig('Fig 7.svg', format='svg', dpi=1200)\n",
    "\n",
    "# show plot\n",
    "plt.show()"
   ]
  }
 ],
 "metadata": {
  "kernelspec": {
   "display_name": "Python 3 (ipykernel)",
   "language": "python",
   "name": "python3"
  },
  "language_info": {
   "codemirror_mode": {
    "name": "ipython",
    "version": 3
   },
   "file_extension": ".py",
   "mimetype": "text/x-python",
   "name": "python",
   "nbconvert_exporter": "python",
   "pygments_lexer": "ipython3",
   "version": "3.10.9"
  }
 },
 "nbformat": 4,
 "nbformat_minor": 5
}
