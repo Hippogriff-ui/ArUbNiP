{
 "cells": [
  {
   "cell_type": "code",
   "execution_count": 1,
   "id": "d62a8788",
   "metadata": {},
   "outputs": [],
   "source": [
    "import numpy as np\n",
    "import pandas as pd\n",
    "from sklearn.metrics import confusion_matrix\n",
    "from sklearn.model_selection import StratifiedKFold\n",
    "from sklearn.model_selection import KFold\n",
    "from sklearn.metrics import accuracy_score\n",
    "from sklearn.ensemble import RandomForestClassifier\n",
    "from imblearn.over_sampling import SMOTE\n",
    "from tqdm import tqdm"
   ]
  },
  {
   "cell_type": "code",
   "execution_count": 2,
   "id": "f4b9cc85",
   "metadata": {},
   "outputs": [],
   "source": [
    "def smote(X,y):\n",
    "    smote = SMOTE(random_state = 123)\n",
    "    X_resampled, y_resampled = smote.fit_resample(X, y)\n",
    "    return X_resampled, y_resampled"
   ]
  },
  {
   "cell_type": "code",
   "execution_count": 3,
   "id": "db8fc8d3",
   "metadata": {},
   "outputs": [],
   "source": [
    "def rf_kfold(X, y,  k_fold_cv):\n",
    "\n",
    "    skf = StratifiedKFold(n_splits = k_fold_cv, random_state = 123, shuffle = True)\n",
    "\n",
    "    acc_dict = {}\n",
    "\n",
    "    for n_ in tqdm(range(50, 151, 10)):\n",
    "        key = 'n_estimators = ' + str(n_)\n",
    "        \n",
    "        smote_rf_model = RandomForestClassifier(n_estimators = n_, n_jobs = 4, random_state = 123)\n",
    "        \n",
    "        y_test_array = np.array([])\n",
    "        y_pred_array = np.array([])\n",
    "\n",
    "        for train_index, test_index in skf.split(X, y):\n",
    "            X_train, X_test = X[train_index], X[test_index]\n",
    "            y_train, y_test = y[train_index], y[test_index]\n",
    "\n",
    "            smote_x, smote_y = smote(X_train,y_train)\n",
    "\n",
    "            smote_y_pred = smote_rf_model.fit(smote_x, smote_y).predict(X_test)\n",
    "\n",
    "            y_test_array = np.concatenate((y_test_array, y_test))\n",
    "            y_pred_array = np.concatenate((y_pred_array, smote_y_pred))\n",
    "            \n",
    "        acc_val = accuracy_score(y_test_array, y_pred_array)\n",
    "            \n",
    "        acc_dict[key] = acc_val\n",
    "        \n",
    "    max_key = max(acc_dict, key = acc_dict.get)\n",
    "    max_value = acc_dict[max_key]\n",
    "        \n",
    "    return {max_key: max_value}"
   ]
  },
  {
   "cell_type": "code",
   "execution_count": 21,
   "id": "e50b6e68",
   "metadata": {},
   "outputs": [],
   "source": [
    "data = pd.read_csv(r\"D:\\study\\paper\\ubiquitination\\null_importances_result\\train_test\\train_Arab_win31_withzero_0.05.csv\")\n",
    "data_val = data.values\n",
    "X = data_val[:,1:]\n",
    "y = data_val[:,0]"
   ]
  },
  {
   "cell_type": "code",
   "execution_count": 22,
   "id": "fe02797d",
   "metadata": {},
   "outputs": [
    {
     "data": {
      "text/plain": [
       "(6129, 1014)"
      ]
     },
     "execution_count": 22,
     "metadata": {},
     "output_type": "execute_result"
    }
   ],
   "source": [
    "X.shape"
   ]
  },
  {
   "cell_type": "code",
   "execution_count": 23,
   "id": "4a0e03bc",
   "metadata": {
    "scrolled": true
   },
   "outputs": [
    {
     "name": "stderr",
     "output_type": "stream",
     "text": [
      "100%|██████████████████████████████████████████████████████████████████████████████████| 11/11 [04:39<00:00, 25.37s/it]\n"
     ]
    },
    {
     "data": {
      "text/plain": [
       "{'n_estimators = 150': 0.9809104258443465}"
      ]
     },
     "execution_count": 23,
     "metadata": {},
     "output_type": "execute_result"
    }
   ],
   "source": [
    "best_para = rf_kfold(X, y,  5)\n",
    "best_para"
   ]
  },
  {
   "cell_type": "code",
   "execution_count": 8,
   "id": "14a6a338",
   "metadata": {},
   "outputs": [],
   "source": [
    "def rf_kfold_without_smote(X, y,  k_fold_cv):\n",
    "\n",
    "    skf = StratifiedKFold(n_splits = k_fold_cv, random_state = 123, shuffle = True)\n",
    "\n",
    "    acc_dict = {}\n",
    "\n",
    "    for n_ in tqdm(range(50, 151, 10)):\n",
    "        key = 'n_estimators = ' + str(n_)\n",
    "        \n",
    "        rf_model = RandomForestClassifier(n_estimators = n_, n_jobs = 4, random_state = 123)\n",
    "        \n",
    "        y_test_array = np.array([])\n",
    "        y_pred_array = np.array([])\n",
    "\n",
    "        for train_index, test_index in skf.split(X, y):\n",
    "            X_train, X_test = X[train_index], X[test_index]\n",
    "            y_train, y_test = y[train_index], y[test_index]\n",
    "\n",
    "            y_pred = rf_model.fit(X_train, y_train).predict(X_test)\n",
    "\n",
    "            y_test_array = np.concatenate((y_test_array, y_test))\n",
    "            y_pred_array = np.concatenate((y_pred_array, y_pred))\n",
    "            \n",
    "        acc_val = accuracy_score(y_test_array, y_pred_array)\n",
    "            \n",
    "        acc_dict[key] = acc_val\n",
    "        \n",
    "    max_key = max(acc_dict, key = acc_dict.get)\n",
    "    max_value = acc_dict[max_key]\n",
    "        \n",
    "    return {max_key: max_value}"
   ]
  },
  {
   "cell_type": "code",
   "execution_count": 9,
   "id": "f4933806",
   "metadata": {},
   "outputs": [
    {
     "name": "stderr",
     "output_type": "stream",
     "text": [
      "100%|██████████████████████████████████████████████████████████████████████████████████| 11/11 [00:26<00:00,  2.41s/it]\n"
     ]
    },
    {
     "data": {
      "text/plain": [
       "{'n_estimators = 50': 0.9946157611355849}"
      ]
     },
     "execution_count": 9,
     "metadata": {},
     "output_type": "execute_result"
    }
   ],
   "source": [
    "rf_kfold_without_smote(X, y, 5)"
   ]
  },
  {
   "cell_type": "code",
   "execution_count": null,
   "id": "8f9c1255",
   "metadata": {},
   "outputs": [],
   "source": []
  }
 ],
 "metadata": {
  "kernelspec": {
   "display_name": "Python 3 (ipykernel)",
   "language": "python",
   "name": "python3"
  },
  "language_info": {
   "codemirror_mode": {
    "name": "ipython",
    "version": 3
   },
   "file_extension": ".py",
   "mimetype": "text/x-python",
   "name": "python",
   "nbconvert_exporter": "python",
   "pygments_lexer": "ipython3",
   "version": "3.10.9"
  }
 },
 "nbformat": 4,
 "nbformat_minor": 5
}
