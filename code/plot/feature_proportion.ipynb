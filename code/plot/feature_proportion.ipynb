{
 "cells": [
  {
   "cell_type": "code",
   "execution_count": 1,
   "id": "76df30e6",
   "metadata": {},
   "outputs": [],
   "source": [
    "import matplotlib.pyplot as plt\n",
    "import numpy as np\n",
    "import pandas as pd"
   ]
  },
  {
   "cell_type": "code",
   "execution_count": 2,
   "id": "f8720822",
   "metadata": {},
   "outputs": [],
   "source": [
    "data = pd.read_csv(r\"D:\\study\\paper\\ubiquitination\\human\\feature_combine\\human_train_feature_combine.csv\")"
   ]
  },
  {
   "cell_type": "code",
   "execution_count": 3,
   "id": "2869c310",
   "metadata": {},
   "outputs": [],
   "source": [
    "all_feature_name = data.columns.tolist()[1:]"
   ]
  },
  {
   "cell_type": "code",
   "execution_count": 4,
   "id": "41e3bdf2",
   "metadata": {},
   "outputs": [],
   "source": [
    "all_matrix = np.zeros((1,6))"
   ]
  },
  {
   "cell_type": "code",
   "execution_count": 5,
   "id": "f8c1109d",
   "metadata": {},
   "outputs": [],
   "source": [
    "for f in all_feature_name:\n",
    "    if 'Binary' in f:\n",
    "        all_matrix[0,0] += 1\n",
    "    elif 'PWM' in f:\n",
    "        all_matrix[0,1] += 1\n",
    "    elif 'EAAC' in f:\n",
    "        all_matrix[0,2] += 1\n",
    "    elif 'CKSAAP' in f:\n",
    "        all_matrix[0,3] += 1\n",
    "    elif 'AA531' in f:\n",
    "        all_matrix[0,4] += 1\n",
    "    elif 'PSSM' in f:\n",
    "        all_matrix[0,5] += 1"
   ]
  },
  {
   "cell_type": "code",
   "execution_count": 6,
   "id": "900b1083",
   "metadata": {},
   "outputs": [
    {
     "data": {
      "text/plain": [
       "array([[  620.,    31.,   540.,  2000., 16461.,   620.]])"
      ]
     },
     "execution_count": 6,
     "metadata": {},
     "output_type": "execute_result"
    }
   ],
   "source": [
    "all_matrix"
   ]
  },
  {
   "cell_type": "code",
   "execution_count": 7,
   "id": "f546250c",
   "metadata": {},
   "outputs": [],
   "source": [
    "greater_than_zero_data = pd.read_csv(r\"C:\\Users\\Li Xiaokang\\Desktop\\null_importances_result\\score_df\\human_final_score_win31.csv\")"
   ]
  },
  {
   "cell_type": "code",
   "execution_count": 8,
   "id": "2ed51e61",
   "metadata": {},
   "outputs": [],
   "source": [
    "greater_than_0_feature_name = greater_than_zero_data['feature'].tolist()"
   ]
  },
  {
   "cell_type": "code",
   "execution_count": 9,
   "id": "bc9e9270",
   "metadata": {},
   "outputs": [],
   "source": [
    "greater_than_0_matrix = np.zeros((1,6))"
   ]
  },
  {
   "cell_type": "code",
   "execution_count": 10,
   "id": "bc50b970",
   "metadata": {},
   "outputs": [],
   "source": [
    "for f in greater_than_0_feature_name:\n",
    "    if 'Binary' in f:\n",
    "        greater_than_0_matrix[0,0] += 1\n",
    "    elif 'PWM' in f:\n",
    "        greater_than_0_matrix[0,1] += 1\n",
    "    elif 'EAAC' in f:\n",
    "        greater_than_0_matrix[0,2] += 1\n",
    "    elif 'CKSAAP' in f:\n",
    "        greater_than_0_matrix[0,3] += 1\n",
    "    elif 'AA531' in f:\n",
    "        greater_than_0_matrix[0,4] += 1\n",
    "    elif 'PSSM' in f:\n",
    "        greater_than_0_matrix[0,5] += 1"
   ]
  },
  {
   "cell_type": "code",
   "execution_count": 11,
   "id": "6def3e7e",
   "metadata": {},
   "outputs": [
    {
     "data": {
      "text/plain": [
       "array([[  297.,    30.,   422.,  1161., 15540.,   620.]])"
      ]
     },
     "execution_count": 11,
     "metadata": {},
     "output_type": "execute_result"
    }
   ],
   "source": [
    "greater_than_0_matrix"
   ]
  },
  {
   "cell_type": "code",
   "execution_count": 12,
   "id": "c6835074",
   "metadata": {},
   "outputs": [],
   "source": [
    "zero_matrix = all_matrix - greater_than_0_matrix"
   ]
  },
  {
   "cell_type": "code",
   "execution_count": 13,
   "id": "e1e39bd5",
   "metadata": {},
   "outputs": [
    {
     "data": {
      "text/plain": [
       "array([[323.,   1., 118., 839., 921.,   0.]])"
      ]
     },
     "execution_count": 13,
     "metadata": {},
     "output_type": "execute_result"
    }
   ],
   "source": [
    "zero_matrix"
   ]
  },
  {
   "cell_type": "code",
   "execution_count": 14,
   "id": "d8e2203e",
   "metadata": {},
   "outputs": [],
   "source": [
    "top5_data = pd.read_csv(r\"C:\\Users\\Li Xiaokang\\Desktop\\null_importances_result\\train_test\\train_human_0.05.csv\")"
   ]
  },
  {
   "cell_type": "code",
   "execution_count": 15,
   "id": "72ccca84",
   "metadata": {},
   "outputs": [],
   "source": [
    "top5_feature_name = top5_data.columns.tolist()[1:]"
   ]
  },
  {
   "cell_type": "code",
   "execution_count": 16,
   "id": "194e3efd",
   "metadata": {},
   "outputs": [],
   "source": [
    "top5_matrix = np.zeros((1,6))"
   ]
  },
  {
   "cell_type": "code",
   "execution_count": 17,
   "id": "93c9c365",
   "metadata": {},
   "outputs": [],
   "source": [
    "for f in top5_feature_name:\n",
    "    if 'Binary' in f:\n",
    "        top5_matrix[0,0] += 1\n",
    "    elif 'PWM' in f:\n",
    "        top5_matrix[0,1] += 1\n",
    "    elif 'EAAC' in f:\n",
    "        top5_matrix[0,2] += 1\n",
    "    elif 'CKSAAP' in f:\n",
    "        top5_matrix[0,3] += 1\n",
    "    elif 'AA531' in f:\n",
    "        top5_matrix[0,4] += 1\n",
    "    elif 'PSSM' in f:\n",
    "        top5_matrix[0,5] += 1"
   ]
  },
  {
   "cell_type": "code",
   "execution_count": 18,
   "id": "95799643",
   "metadata": {},
   "outputs": [
    {
     "data": {
      "text/plain": [
       "array([[ 70.,  30.,  54., 129., 613.,   8.]])"
      ]
     },
     "execution_count": 18,
     "metadata": {},
     "output_type": "execute_result"
    }
   ],
   "source": [
    "top5_matrix"
   ]
  },
  {
   "cell_type": "code",
   "execution_count": 19,
   "id": "b5e39539",
   "metadata": {},
   "outputs": [
    {
     "data": {
      "text/plain": [
       "array([[  227.,     0.,   368.,  1032., 14927.,   612.]])"
      ]
     },
     "execution_count": 19,
     "metadata": {},
     "output_type": "execute_result"
    }
   ],
   "source": [
    "top5_0_matrix = greater_than_0_matrix - top5_matrix\n",
    "top5_0_matrix"
   ]
  },
  {
   "cell_type": "code",
   "execution_count": 20,
   "id": "475bef7d",
   "metadata": {},
   "outputs": [],
   "source": [
    "plot_matrix = np.zeros((3,6))"
   ]
  },
  {
   "cell_type": "code",
   "execution_count": 21,
   "id": "504a39cb",
   "metadata": {},
   "outputs": [],
   "source": [
    "plot_matrix[0,:] = top5_matrix / all_matrix"
   ]
  },
  {
   "cell_type": "code",
   "execution_count": 22,
   "id": "8de0a4c8",
   "metadata": {},
   "outputs": [],
   "source": [
    "plot_matrix[1,:] = top5_0_matrix / all_matrix"
   ]
  },
  {
   "cell_type": "code",
   "execution_count": 23,
   "id": "19c5f1df",
   "metadata": {},
   "outputs": [
    {
     "data": {
      "text/plain": [
       "array([[0.11290323, 0.96774194, 0.1       , 0.0645    , 0.03723954,\n",
       "        0.01290323],\n",
       "       [0.36612903, 0.        , 0.68148148, 0.516     , 0.90681004,\n",
       "        0.98709677],\n",
       "       [0.52096774, 0.03225806, 0.21851852, 0.4195    , 0.05595043,\n",
       "        0.        ]])"
      ]
     },
     "execution_count": 23,
     "metadata": {},
     "output_type": "execute_result"
    }
   ],
   "source": [
    "plot_matrix[2,:] = zero_matrix / all_matrix\n",
    "plot_matrix"
   ]
  },
  {
   "cell_type": "code",
   "execution_count": 25,
   "id": "a407c2ab",
   "metadata": {},
   "outputs": [
    {
     "data": {
      "image/png": "[encoded data removed]",
      "text/plain": [
       "<Figure size 900x600 with 1 Axes>"
      ]
     },
     "metadata": {},
     "output_type": "display_data"
    }
   ],
   "source": [
    "import matplotlib.pyplot as plt\n",
    "import numpy as np\n",
    "\n",
    "category_names = ['final_score in top5%', '0 < final_score < top5%', 'final_score = 0']\n",
    "\n",
    "results = {\n",
    "    'PWM': np.round(plot_matrix[:, 1] * 100, decimals=1),\n",
    "    'Binary': np.round(plot_matrix[:, 0] * 100, decimals=1),\n",
    "    'EAAC': np.round(plot_matrix[:, 2] * 100, decimals=1),\n",
    "    'CKSAAP': np.round(plot_matrix[:, 3] * 100, decimals=1),\n",
    "    'AA531': np.round(plot_matrix[:, 4] * 100, decimals=1),\n",
    "    'PSSM': np.round(plot_matrix[:, 5] * 100, decimals=1)\n",
    "}\n",
    "\n",
    "def survey(results, category_names):\n",
    "    \"\"\"\n",
    "    Parameters\n",
    "    ----------\n",
    "    results : dict\n",
    "        A mapping from question labels to a list of answers per category.\n",
    "        It is assumed all lists contain the same number of entries and that\n",
    "        it matches the length of *category_names*.\n",
    "    category_names : list of str\n",
    "        The category labels.\n",
    "    \"\"\"\n",
    "    \n",
    "    labels = list(results.keys())\n",
    "    data = np.array(list(results.values()))\n",
    "    data_cum = data.cumsum(axis=1)\n",
    "    category_colors = ['#DF7A5E', '#82B29A', '#F4F1DE']\n",
    "    fig, ax = plt.subplots(figsize=(9, 6))  # 调整图形尺寸\n",
    "    ax.invert_yaxis()\n",
    "\n",
    "    ax.set_xlim(0, np.sum(data, axis=1).max())\n",
    "\n",
    "    for i, (colname, color) in enumerate(zip(category_names, category_colors)):\n",
    "\n",
    "        widths = data[:, i]\n",
    "        starts = data_cum[:, i] - widths\n",
    "        rects = ax.barh(labels, widths, left=starts, height=0.6,\n",
    "                        label=colname, color=color, edgecolor='black')\n",
    "\n",
    "        text_color = 'black'\n",
    "        ax.bar_label(rects, labels=widths, label_type='center', color=text_color, fontsize=8)  # 添加标签并设置字体大小\n",
    "\n",
    "    \n",
    "    ax.legend(ncol=len(category_names), bbox_to_anchor=(0, 1), loc='lower left', fontsize='small')\n",
    "    \n",
    "    ax.set_ylabel('Feature')  # 添加Y轴标签\n",
    "    ax.set_xlabel('Percentage (%)')  # 添加X轴标签\n",
    "\n",
    "    plt.tight_layout()  # 调整图形布局\n",
    "\n",
    "    return fig, ax\n",
    "\n",
    "\n",
    "survey(results, category_names)\n",
    "plt.savefig('Fig 6-human_proportion.pdf', format='pdf', dpi=1200)  # 保存为EPS格式的向量图，并设置dpi\n",
    "plt.show()\n"
   ]
  },
  {
   "cell_type": "code",
   "execution_count": null,
   "id": "98413132",
   "metadata": {},
   "outputs": [],
   "source": []
  }
 ],
 "metadata": {
  "kernelspec": {
   "display_name": "Python 3 (ipykernel)",
   "language": "python",
   "name": "python3"
  },
  "language_info": {
   "codemirror_mode": {
    "name": "ipython",
    "version": 3
   },
   "file_extension": ".py",
   "mimetype": "text/x-python",
   "name": "python",
   "nbconvert_exporter": "python",
   "pygments_lexer": "ipython3",
   "version": "3.10.9"
  }
 },
 "nbformat": 4,
 "nbformat_minor": 5
}
