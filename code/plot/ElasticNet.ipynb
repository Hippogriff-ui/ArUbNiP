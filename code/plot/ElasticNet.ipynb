{
 "cells": [
  {
   "cell_type": "code",
   "execution_count": 17,
   "id": "7bb73c09",
   "metadata": {},
   "outputs": [],
   "source": [
    "from sklearn.linear_model import ElasticNet\n",
    "import numpy as np\n",
    "import pandas as pd\n",
    "from sklearn import preprocessing # 导入数据预处理包\n",
    "from sklearn.preprocessing import MinMaxScaler"
   ]
  },
  {
   "cell_type": "code",
   "execution_count": 18,
   "id": "614c466c",
   "metadata": {},
   "outputs": [],
   "source": [
    "train_data = pd.read_csv(r\"D:\\study\\paper\\ubiquitination\\Arab\\feature_combine\\train_win31_feature_combine.csv\")"
   ]
  },
  {
   "cell_type": "code",
   "execution_count": 19,
   "id": "07d4025c",
   "metadata": {},
   "outputs": [],
   "source": [
    "columns_to_scale = train_data.columns[train_data.columns.str.contains('AA531')]\n",
    "\n",
    "scaler = MinMaxScaler(feature_range=(-1,1))\n",
    "train_data[columns_to_scale] = scaler.fit_transform(train_data[columns_to_scale])"
   ]
  },
  {
   "cell_type": "code",
   "execution_count": 21,
   "id": "35618abf",
   "metadata": {},
   "outputs": [],
   "source": [
    "def elastic_net(X, y, feature_names):\n",
    "    enet = ElasticNet(random_state=123)\n",
    "    enet.fit(X, y)\n",
    "    w_nonzero = enet.coef_ != 0\n",
    "    selected_features = feature_names[w_nonzero]\n",
    "    return selected_features"
   ]
  },
  {
   "cell_type": "code",
   "execution_count": 22,
   "id": "ce0312b4",
   "metadata": {},
   "outputs": [],
   "source": [
    "feature_names = train_data.columns.values[1:]\n",
    "train_val = train_data.values\n",
    "X = train_val[:,1:]\n",
    "y = train_val[:,0]"
   ]
  },
  {
   "cell_type": "code",
   "execution_count": 23,
   "id": "df18becd",
   "metadata": {},
   "outputs": [
    {
     "data": {
      "text/plain": [
       "[]"
      ]
     },
     "execution_count": 23,
     "metadata": {},
     "output_type": "execute_result"
    }
   ],
   "source": [
    "selected_features = elastic_net(X, y, feature_names)\n",
    "\n",
    "selected_features = list(selected_features)\n",
    "selected_features"
   ]
  },
  {
   "cell_type": "code",
   "execution_count": 60,
   "id": "cf997939",
   "metadata": {},
   "outputs": [],
   "source": [
    "selected_features.insert(0,'label')\n",
    "selected_df = train_data[selected_features]\n",
    "selected_df.to_csv(r\"D:\\study\\paper\\ubiquitination\\null_importances_result\\train_test\\train_ElasticNet_human.csv\", index=False)"
   ]
  },
  {
   "cell_type": "code",
   "execution_count": null,
   "id": "3f2d4809",
   "metadata": {},
   "outputs": [],
   "source": []
  }
 ],
 "metadata": {
  "kernelspec": {
   "display_name": "Python 3 (ipykernel)",
   "language": "python",
   "name": "python3"
  },
  "language_info": {
   "codemirror_mode": {
    "name": "ipython",
    "version": 3
   },
   "file_extension": ".py",
   "mimetype": "text/x-python",
   "name": "python",
   "nbconvert_exporter": "python",
   "pygments_lexer": "ipython3",
   "version": "3.10.9"
  }
 },
 "nbformat": 4,
 "nbformat_minor": 5
}
