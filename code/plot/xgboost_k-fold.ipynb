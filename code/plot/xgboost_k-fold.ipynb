{
 "cells": [
  {
   "cell_type": "code",
   "execution_count": 1,
   "id": "f08c19b0",
   "metadata": {},
   "outputs": [],
   "source": [
    "import numpy as np\n",
    "import pandas as pd\n",
    "from sklearn.metrics import matthews_corrcoef\n",
    "from sklearn.metrics import confusion_matrix\n",
    "from sklearn.model_selection import StratifiedKFold\n",
    "from sklearn.metrics import accuracy_score\n",
    "import xgboost as xgb\n",
    "from sklearn.metrics import accuracy_score\n",
    "from imblearn.over_sampling import SMOTE\n",
    "from tqdm import tqdm"
   ]
  },
  {
   "cell_type": "code",
   "execution_count": 2,
   "id": "0461753b",
   "metadata": {},
   "outputs": [],
   "source": [
    "def smote(X,y):\n",
    "    smote = SMOTE(random_state = 123)\n",
    "    X_resampled, y_resampled = smote.fit_resample(X, y)\n",
    "    return X_resampled, y_resampled"
   ]
  },
  {
   "cell_type": "code",
   "execution_count": 3,
   "id": "96e52bfe",
   "metadata": {},
   "outputs": [],
   "source": [
    "data = pd.read_csv(r\"D:\\study\\paper\\ubiquitination\\null_importances_result\\train_test\\train_ElasticNet_arab.csv\")\n",
    "data_val = data.values\n",
    "X = data_val[:,1:]\n",
    "y = data_val[:,0]"
   ]
  },
  {
   "cell_type": "code",
   "execution_count": 4,
   "id": "9159c437",
   "metadata": {},
   "outputs": [],
   "source": [
    "def xgb_kfold(X, y,  k_fold_cv):\n",
    "\n",
    "    skf = StratifiedKFold(n_splits = k_fold_cv, random_state = 123, shuffle = True)\n",
    "\n",
    "    acc_dict = {}\n",
    "    for n_ in tqdm(range(50,151,10)):\n",
    "        for s_ in [0.6, 0.7, 0.8, 0.9, 1]:\n",
    "            for g_ in [0.2, 0.4, 0.6, 0.8, 1]:\n",
    "                key = 'n_estimators = ' + str(n_) + ', ' + 'subsample = ' + str(s_) + ',' + 'gamma = ' + str(g_)\n",
    "                \n",
    "                y_test_array = np.array([])\n",
    "                y_pred_array = np.array([])\n",
    "                \n",
    "                smote_xgb_model = xgb.XGBClassifier(learning_rate = 0.01, \n",
    "                                                    n_estimators = n_, \n",
    "                                                    gamma = g_, \n",
    "                                                    subsample = s_,\n",
    "                                                    random_state = 123)\n",
    "\n",
    "                for train_index, test_index in skf.split(X, y):\n",
    "                    X_train, X_test = X[train_index], X[test_index]\n",
    "                    y_train, y_test = y[train_index], y[test_index]\n",
    "\n",
    "                    smote_x, smote_y = smote(X_train,y_train)\n",
    "\n",
    "                    smote_y_pred = smote_xgb_model.fit(smote_x, smote_y).predict(X_test)\n",
    "\n",
    "                    y_test_array = np.concatenate((y_test_array, y_test))\n",
    "                    y_pred_array = np.concatenate((y_pred_array, smote_y_pred))\n",
    "                    \n",
    "                acc_val = accuracy_score(y_test_array, y_pred_array)\n",
    "                    \n",
    "                acc_dict[key] = acc_val\n",
    "                \n",
    "    max_key = max(acc_dict, key = acc_dict.get)\n",
    "    max_value = acc_dict[max_key]\n",
    "                \n",
    "    return {max_key: max_value}"
   ]
  },
  {
   "cell_type": "code",
   "execution_count": null,
   "id": "86e28cf4",
   "metadata": {},
   "outputs": [],
   "source": [
    "best_para = xgb_kfold(X, y,  5)\n",
    "best_para"
   ]
  }
 ],
 "metadata": {
  "kernelspec": {
   "display_name": "Python 3 (ipykernel)",
   "language": "python",
   "name": "python3"
  },
  "language_info": {
   "codemirror_mode": {
    "name": "ipython",
    "version": 3
   },
   "file_extension": ".py",
   "mimetype": "text/x-python",
   "name": "python",
   "nbconvert_exporter": "python",
   "pygments_lexer": "ipython3",
   "version": "3.10.9"
  }
 },
 "nbformat": 4,
 "nbformat_minor": 5
}
