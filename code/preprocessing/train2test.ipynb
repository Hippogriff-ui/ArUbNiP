{
 "cells": [
  {
   "cell_type": "code",
   "execution_count": 1,
   "id": "678ca881",
   "metadata": {},
   "outputs": [],
   "source": [
    "import numpy as np\n",
    "import pandas as pd"
   ]
  },
  {
   "cell_type": "code",
   "execution_count": 38,
   "id": "515d335b",
   "metadata": {},
   "outputs": [],
   "source": [
    "test_data = pd.read_csv(r\"D:\\study\\paper\\ubiquitination\\Oryza_sativa\\feature_combine\\Oryza_test_win31_feature_combine.csv\")"
   ]
  },
  {
   "cell_type": "code",
   "execution_count": 42,
   "id": "baf69149",
   "metadata": {},
   "outputs": [],
   "source": [
    "train_data = pd.read_csv(r\"C:\\Users\\Li Xiaokang\\Desktop\\null_importances_result\\train_test\\train_Arab_0.05.csv\")"
   ]
  },
  {
   "cell_type": "code",
   "execution_count": 47,
   "id": "a2f94591",
   "metadata": {},
   "outputs": [],
   "source": [
    "train_col = train_data.columns.tolist()"
   ]
  },
  {
   "cell_type": "code",
   "execution_count": 48,
   "id": "a2c25487",
   "metadata": {},
   "outputs": [],
   "source": [
    "df = test_data[train_col]"
   ]
  },
  {
   "cell_type": "code",
   "execution_count": 49,
   "id": "5a003362",
   "metadata": {},
   "outputs": [],
   "source": [
    "df.to_csv(r\"C:\\Users\\Li Xiaokang\\Desktop\\null_importances_result\\train_test\\test_arab_to_oryza.csv\", index=False)"
   ]
  },
  {
   "cell_type": "code",
   "execution_count": null,
   "id": "d7d8b7f6",
   "metadata": {},
   "outputs": [],
   "source": []
  }
 ],
 "metadata": {
  "kernelspec": {
   "display_name": "Python 3 (ipykernel)",
   "language": "python",
   "name": "python3"
  },
  "language_info": {
   "codemirror_mode": {
    "name": "ipython",
    "version": 3
   },
   "file_extension": ".py",
   "mimetype": "text/x-python",
   "name": "python",
   "nbconvert_exporter": "python",
   "pygments_lexer": "ipython3",
   "version": "3.10.9"
  }
 },
 "nbformat": 4,
 "nbformat_minor": 5
}
