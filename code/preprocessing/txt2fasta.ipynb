{
 "cells": [
  {
   "cell_type": "code",
   "execution_count": 14,
   "id": "b87666a0",
   "metadata": {},
   "outputs": [],
   "source": [
    "# 打开txt文件并读取内容\n",
    "with open(r\"..\\ubiquitination\\Mus_musculus\\pre\\Mus_musculus_pos_51.txt\", 'r') as f1:\n",
    "    pos_lines = f1.readlines()\n",
    "with open(r\"..\\ubiquitination\\Mus_musculus\\pre\\Mus_musculus_neg_51.txt\", 'r') as f2:\n",
    "    neg_lines = f2.readlines()"
   ]
  },
  {
   "cell_type": "code",
   "execution_count": 15,
   "id": "ca6971eb",
   "metadata": {},
   "outputs": [],
   "source": [
    "def txt2fasta(pos, neg):\n",
    "\n",
    "    # 将文本内容转换为fasta格式\n",
    "    pos_fasta = ''\n",
    "    neg_fasta = ''\n",
    "    \n",
    "    for i in range(len(pos_lines)):\n",
    "        pos_fasta += '>' + str(i+1) + '\\n' + pos_lines[i].strip() + '\\n'\n",
    "    \n",
    "    for j in range(len(neg_lines)):\n",
    "        neg_fasta += '>' + str(j+1) + '\\n' + neg_lines[j].strip() + '\\n'\n",
    "        \n",
    "    return pos_fasta, neg_fasta"
   ]
  },
  {
   "cell_type": "code",
   "execution_count": 16,
   "id": "4b8d890b",
   "metadata": {},
   "outputs": [],
   "source": [
    "pos_fas, neg_fas = txt2fasta(pos_lines, neg_lines)"
   ]
  },
  {
   "cell_type": "code",
   "execution_count": 17,
   "id": "67d6caa9",
   "metadata": {},
   "outputs": [],
   "source": [
    "# 将fasta格式输出到文件\n",
    "with open(r\"..\\ubiquitination\\Mus_musculus\\pre\\Mus_musculus_pos_51.fasta\", 'w') as f3:\n",
    "    f3.write(pos_fas)\n",
    "\n",
    "# 将fasta格式输出到文件\n",
    "with open(r\"..\\ubiquitination\\Mus_musculus\\pre\\Mus_musculus_neg_51.fasta\", 'w') as f4:\n",
    "    f4.write(neg_fas)"
   ]
  },
  {
   "cell_type": "code",
   "execution_count": null,
   "id": "0ca561db",
   "metadata": {},
   "outputs": [],
   "source": []
  }
 ],
 "metadata": {
  "kernelspec": {
   "display_name": "Python 3 (ipykernel)",
   "language": "python",
   "name": "python3"
  },
  "language_info": {
   "codemirror_mode": {
    "name": "ipython",
    "version": 3
   },
   "file_extension": ".py",
   "mimetype": "text/x-python",
   "name": "python",
   "nbconvert_exporter": "python",
   "pygments_lexer": "ipython3",
   "version": "3.10.9"
  }
 },
 "nbformat": 4,
 "nbformat_minor": 5
}
