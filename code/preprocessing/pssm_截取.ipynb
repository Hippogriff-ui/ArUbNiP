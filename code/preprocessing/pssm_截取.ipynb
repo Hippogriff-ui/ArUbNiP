{
 "cells": [
  {
   "cell_type": "code",
   "execution_count": 1,
   "id": "7a3aca0b",
   "metadata": {},
   "outputs": [],
   "source": [
    "import numpy as np"
   ]
  },
  {
   "cell_type": "code",
   "execution_count": 42,
   "id": "627bb54e",
   "metadata": {},
   "outputs": [],
   "source": [
    "with open(r\"D:\\study\\paper\\ubiquitination\\Arab\\feature_extraction\\win31\\win31_test\\test_neg_PSSM.txt\", 'r') as f:\n",
    "    data = f.readlines()"
   ]
  },
  {
   "cell_type": "code",
   "execution_count": 43,
   "id": "4d3b98c5",
   "metadata": {},
   "outputs": [
    {
     "data": {
      "text/plain": [
       "620"
      ]
     },
     "execution_count": 43,
     "metadata": {},
     "output_type": "execute_result"
    }
   ],
   "source": [
    "len([float(d) for d in data[0].split(',')])"
   ]
  },
  {
   "cell_type": "code",
   "execution_count": 44,
   "id": "3551b547",
   "metadata": {},
   "outputs": [],
   "source": [
    "sample_num = len(data)\n",
    "col_num = 28 * 20"
   ]
  },
  {
   "cell_type": "code",
   "execution_count": 45,
   "id": "b17d94cc",
   "metadata": {},
   "outputs": [],
   "source": [
    "new_matrix = np.zeros((sample_num, col_num))"
   ]
  },
  {
   "cell_type": "code",
   "execution_count": 46,
   "id": "6fc7475c",
   "metadata": {},
   "outputs": [],
   "source": [
    "for s in range(sample_num):\n",
    "    data_list = [float(d) for d in data[s].split(',')]\n",
    "    new_matrix[s, :] = data_list[20:-40]"
   ]
  },
  {
   "cell_type": "code",
   "execution_count": 47,
   "id": "31259bfd",
   "metadata": {},
   "outputs": [
    {
     "data": {
      "text/plain": [
       "array([[ 0.54676, -0.18225,  0.54676, ..., -0.72449,  0.15368,  1.91002],\n",
       "       [-0.05374, -0.59109, -0.05374, ..., -0.81431,  0.11633,  2.44294],\n",
       "       [-0.13196,  0.30791, -0.13196, ..., -1.21775, -0.45666, -0.45666],\n",
       "       ...,\n",
       "       [-0.11377,  0.3413 ,  0.79636, ..., -1.55857, -0.92242, -0.92242],\n",
       "       [-0.30955,  3.27474,  0.01629, ...,  3.01134,  0.1434 ,  1.29058],\n",
       "       [-0.30955,  3.27474,  0.01629, ...,  3.01134,  0.1434 ,  1.29058]])"
      ]
     },
     "execution_count": 47,
     "metadata": {},
     "output_type": "execute_result"
    }
   ],
   "source": [
    "new_matrix"
   ]
  },
  {
   "cell_type": "code",
   "execution_count": 48,
   "id": "e163fc37",
   "metadata": {},
   "outputs": [
    {
     "data": {
      "text/plain": [
       "(1533, 560)"
      ]
     },
     "execution_count": 48,
     "metadata": {},
     "output_type": "execute_result"
    }
   ],
   "source": [
    "new_matrix.shape"
   ]
  },
  {
   "cell_type": "code",
   "execution_count": 49,
   "id": "5c9b3c46",
   "metadata": {},
   "outputs": [],
   "source": [
    "np.savetxt('../ubiquitination/Arab/feature_extraction/test_win28/test_neg_PSSM_win28.txt', new_matrix, delimiter=',', fmt='%.5f')"
   ]
  },
  {
   "cell_type": "code",
   "execution_count": null,
   "id": "849814b9",
   "metadata": {},
   "outputs": [],
   "source": []
  }
 ],
 "metadata": {
  "kernelspec": {
   "display_name": "Python 3 (ipykernel)",
   "language": "python",
   "name": "python3"
  },
  "language_info": {
   "codemirror_mode": {
    "name": "ipython",
    "version": 3
   },
   "file_extension": ".py",
   "mimetype": "text/x-python",
   "name": "python",
   "nbconvert_exporter": "python",
   "pygments_lexer": "ipython3",
   "version": "3.10.9"
  }
 },
 "nbformat": 4,
 "nbformat_minor": 5
}
